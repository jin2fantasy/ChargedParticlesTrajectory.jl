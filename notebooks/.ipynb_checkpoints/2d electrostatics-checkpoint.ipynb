{
 "cells": [
  {
   "cell_type": "markdown",
   "metadata": {},
   "source": [
    "# Solving 2d electrostatics problem numerically\n",
    "\n",
    "Let's solve electrostatics problem\n",
    "\n",
    "$$ \\nabla^2 \\phi = \\frac{\\rho}{\\epsilon_0} $$\n",
    "\n",
    "with given source charge distribution and boundary conditions.\n",
    "\n",
    "The poisson's equation can be expressed more explicitly, i.e.,\n",
    "\n",
    "$$ (\\frac{\\partial^2}{\\partial x^2} + \\frac{\\partial^2}{\\partial y^2}) \\phi (x,y) = \\frac{\\rho (x,y)}{\\epsilon_0} $$\n",
    "\n",
    "Discretizing the partial differential operators, we have\n",
    "\n",
    "$$ \\frac{\\partial \\phi}{\\partial x} = \\frac{\\phi (x+h, y) - \\phi (x, y)}{h} $$\n",
    "\n",
    "$$ \\frac{\\partial^2 \\phi}{\\partial x^2} = \\frac{\\phi(x+h,y) - 2\\phi(x,y) + \\phi(x-h,y)}{h^2} $$\n",
    "\n",
    "with some discretizing factor $h$."
   ]
  },
  {
   "cell_type": "markdown",
   "metadata": {},
   "source": [
    "Now we have difference equation:\n",
    "\n",
    "$$ \\frac{\\phi(x+h,y) - 2\\phi(x,y) + \\phi(x-h,y)}{h^2} + \\frac{\\phi(x,y+h) - 2\\phi(x,y) + \\phi(x,y-h)}{h^2} \n",
    "    = \\frac{\\rho(x,y)}{\\epsilon_0} $$"
   ]
  },
  {
   "cell_type": "markdown",
   "metadata": {},
   "source": [
    "The difference equation can be formulated in 2 ways. One is using matrix, and the other is using stencil operation. Let's do matrix version first.\n",
    "\n",
    "Since the space is discretized, we can represent the potential as a matrix $\\phi(x,y) = \\phi_{i,j}$. Here, the difference of coordinates between any neighboring elements is $h$. The source term is also changed to $\\rho(x,y) = \\rho_{i.j}$. Then the difference equation is transformed into\n",
    "\n",
    "$$ \\frac{\\phi_{i+1,j} + \\phi_{i-1,j} + \\phi_{i,j+1} + \\phi_{i,j-1} - 4\\phi_{i,j}}{h^2} = \n",
    "    \\frac{\\rho_{i,j}}{\\epsilon_0} $$\n",
    "    \n",
    "Here, the subscripts are $ 2 \\leq i \\leq N-1 $ and $ 2 \\leq j \\leq M-1 $. Consequently, the equation is converted into matrix equation:"
   ]
  },
  {
   "cell_type": "markdown",
   "metadata": {},
   "source": [
    "$$ \\begin{bmatrix}\n",
    "      D    &   -I   &    0   & \\cdots &    0   &    0   \\\\\n",
    "     -I    &    D   &   -I   & \\cdots &    0   &    0   \\\\\n",
    "      0    &   -I   &    D   & \\cdots &    0   &    0   \\\\\n",
    "    \\vdots & \\vdots & \\vdots & \\ddots & \\vdots & \\vdots \\\\\n",
    "      0    &    0   &    0   & \\cdots &    D   &   -I   \\\\\n",
    "      0    &    0   &    0   & \\cdots &   -I   &    D\n",
    "    \\end{bmatrix}\n",
    "    \\begin{bmatrix}\n",
    "    \\phi_{2,2} \\\\\n",
    "    \\phi_{3,2} \\\\\n",
    "    \\vdots     \\\\\n",
    "    \\phi_{N-1,2} \\\\\n",
    "    \\phi_{2,3} \\\\\n",
    "    \\phi_{3,3} \\\\\n",
    "    \\vdots     \\\\\n",
    "    \\phi_{N-1,3} \\\\\n",
    "    \\phi_{2,M-1} \\\\\n",
    "    \\phi_{3,M-1} \\\\\n",
    "    \\vdots     \\\\\n",
    "    \\phi_{N-1,M-1}\n",
    "    \\end{bmatrix}\n",
    "    =\n",
    "    -\\frac{h^2}{\\epsilon_0}\n",
    "    \\begin{bmatrix}\n",
    "    \\rho_{2,2} + \\phi_{1,2} + \\phi_{2,1} \\\\\n",
    "    \\rho_{3,2} + \\phi_{3,1} \\\\\n",
    "    \\vdots     \\\\\n",
    "    \\rho_{N-1,2} + \\phi_{N,2} + \\phi_{N-1,1} \\\\\n",
    "    \\rho_{2,3} + \\phi_{1,3} \\\\\n",
    "    \\rho_{3,3} \\\\\n",
    "    \\vdots     \\\\\n",
    "    \\rho_{N-1,3} + \\phi_{N,3} \\\\\n",
    "    \\rho_{2,M-1} + \\phi_{1,M-1} + \\phi_{2,M} \\\\\n",
    "    \\rho_{3,M-1} + \\phi_{3,M} \\\\\n",
    "    \\vdots     \\\\\n",
    "    \\rho_{N-1,M-1} + \\phi_{N,M-1} + \\phi_{N-1,M}\n",
    "    \\end{bmatrix}\n",
    "    $$\n",
    "\n",
    "where $I$ is $(N-2) \\times (N-2)$ identity matrix and $D$ is $(N-2) \\times (N-2)$ matrix, given by\n",
    "\n",
    "$$ D = \\begin{bmatrix}\n",
    "        4  &  -1  &  0  &  0  & \\cdots &  0  \\\\\n",
    "       -1  &   4  & -1  &  0  & \\cdots &  0  \\\\\n",
    "        0  &  -1  &  4  & -1  & \\cdots &  0  \\\\\n",
    "        \\vdots  &  \\vdots  &  \\vdots  &  \\vdots  & \\ddots &  -1  \\\\\n",
    "        0  &  0  &  0  &  0  &  -1  &  4\n",
    "        \\end{bmatrix}\n",
    "$$\n",
    "\n",
    "Also note that the boundary elements are brought to right-hand side. "
   ]
  },
  {
   "cell_type": "code",
   "execution_count": 146,
   "metadata": {},
   "outputs": [
    {
     "data": {
      "text/plain": [
       "18×18 SparseMatrixCSC{Int64,Int64} with 52 stored entries:\n",
       "  [1 ,  1]  =  -4\n",
       "  [2 ,  1]  =  1\n",
       "  [1 ,  2]  =  1\n",
       "  [2 ,  2]  =  -4\n",
       "  [3 ,  2]  =  1\n",
       "  [2 ,  3]  =  1\n",
       "  [3 ,  3]  =  -4\n",
       "  [4 ,  3]  =  1\n",
       "  [3 ,  4]  =  1\n",
       "  [4 ,  4]  =  -4\n",
       "  ⋮\n",
       "  [14, 15]  =  1\n",
       "  [15, 15]  =  -4\n",
       "  [16, 15]  =  1\n",
       "  [15, 16]  =  1\n",
       "  [16, 16]  =  -4\n",
       "  [17, 16]  =  1\n",
       "  [16, 17]  =  1\n",
       "  [17, 17]  =  -4\n",
       "  [18, 17]  =  1\n",
       "  [17, 18]  =  1\n",
       "  [18, 18]  =  -4"
      ]
     },
     "execution_count": 146,
     "metadata": {},
     "output_type": "execute_result"
    }
   ],
   "source": [
    "L = 1\n",
    "h = 0.05\n",
    "nstep = Int(L/h)\n",
    "D = SymTridiagonal(repmat([-4], nstep-2), repmat([1], nstep-2)) |> SparseMatrixCSC"
   ]
  },
  {
   "cell_type": "code",
   "execution_count": 147,
   "metadata": {},
   "outputs": [
    {
     "data": {
      "text/plain": [
       "324×324 SparseMatrixCSC{Float64,Int64} with 0 stored entries"
      ]
     },
     "execution_count": 147,
     "metadata": {},
     "output_type": "execute_result"
    }
   ],
   "source": [
    "n = nstep-2\n",
    "coeff = spzeros(n^2, n^2)"
   ]
  },
  {
   "cell_type": "code",
   "execution_count": 148,
   "metadata": {},
   "outputs": [],
   "source": [
    "for j in 1:n\n",
    "    view(coeff, (j-1)*n+1 : j*n, (j-1)*n+1 : j*n) .= D\n",
    "end\n",
    "for j in 1:n-1\n",
    "    view(coeff, j*n+1 : (j+1)*n, (j-1)*n+1 : j*n) .= -eye(n,n)\n",
    "    view(coeff, (j-1)*n+1 : j*n, j*n+1 : (j+1)*n) .= -eye(n,n)\n",
    "end        "
   ]
  },
  {
   "cell_type": "code",
   "execution_count": 160,
   "metadata": {},
   "outputs": [
    {
     "data": {
      "text/plain": [
       "324-element Array{Float64,1}:\n",
       " 2.0\n",
       " 1.0\n",
       " 1.0\n",
       " 1.0\n",
       " 1.0\n",
       " 1.0\n",
       " 1.0\n",
       " 1.0\n",
       " 1.0\n",
       " 1.0\n",
       " 1.0\n",
       " 1.0\n",
       " 1.0\n",
       " ⋮  \n",
       " 1.0\n",
       " 1.0\n",
       " 1.0\n",
       " 1.0\n",
       " 1.0\n",
       " 1.0\n",
       " 1.0\n",
       " 1.0\n",
       " 1.0\n",
       " 1.0\n",
       " 1.0\n",
       " 2.0"
      ]
     },
     "execution_count": 160,
     "metadata": {},
     "output_type": "execute_result"
    }
   ],
   "source": [
    "source = zeros(n^2)\n",
    "boundary_cond = zeros(n, n) \n",
    "# boundaries are set to 1\n",
    "boundary_cond[:, 1] .+= 1\n",
    "boundary_cond[:, end] .+= 1\n",
    "boundary_cond[1, :] .+= 1\n",
    "boundary_cond[end, :] .+= 1\n",
    "boundary_cond = vec(boundary_cond)\n",
    "sourceterm = source .+ boundary_cond"
   ]
  },
  {
   "cell_type": "code",
   "execution_count": 161,
   "metadata": {},
   "outputs": [
    {
     "data": {
      "text/plain": [
       "18×18 SubArray{Float64,2,Array{Float64,2},Tuple{UnitRange{Int64},UnitRange{Int64}},false}:\n",
       " -0.720669  0.138955  -0.371245  …  -0.371245  0.138955  -0.720669\n",
       " -0.743722  0.463905  -0.379623     -0.379623  0.463905  -0.743722\n",
       " -0.790313  0.593322  -0.45867      -0.45867   0.593322  -0.790313\n",
       " -0.824207  0.660401  -0.523808     -0.523808  0.660401  -0.824207\n",
       " -0.846116  0.700264  -0.569315     -0.569315  0.700264  -0.846116\n",
       " -0.859991  0.725226  -0.599799  …  -0.599799  0.725226  -0.859991\n",
       " -0.868624  0.740849  -0.619521     -0.619521  0.740849  -0.868624\n",
       " -0.873657  0.750024  -0.631313     -0.631313  0.750024  -0.873657\n",
       " -0.875978  0.754277  -0.63683      -0.63683   0.754277  -0.875978\n",
       " -0.875978  0.754277  -0.63683      -0.63683   0.754277  -0.875978\n",
       " -0.873657  0.750024  -0.631313  …  -0.631313  0.750024  -0.873657\n",
       " -0.868624  0.740849  -0.619521     -0.619521  0.740849  -0.868624\n",
       " -0.859991  0.725226  -0.599799     -0.599799  0.725226  -0.859991\n",
       " -0.846116  0.700264  -0.569315     -0.569315  0.700264  -0.846116\n",
       " -0.824207  0.660401  -0.523808     -0.523808  0.660401  -0.824207\n",
       " -0.790313  0.593322  -0.45867   …  -0.45867   0.593322  -0.790313\n",
       " -0.743722  0.463905  -0.379623     -0.379623  0.463905  -0.743722\n",
       " -0.720669  0.138955  -0.371245     -0.371245  0.138955  -0.720669"
      ]
     },
     "execution_count": 161,
     "metadata": {},
     "output_type": "execute_result"
    }
   ],
   "source": [
    "potential = coeff\\sourceterm\n",
    "potential2d = ones(nstep, nstep)\n",
    "potential2d[2:end-1, 2:end-1] .= reshape(potential, n, n)"
   ]
  },
  {
   "cell_type": "code",
   "execution_count": 162,
   "metadata": {},
   "outputs": [
    {
     "data": {
      "text/plain": [
       "Plots.PyPlotBackend()"
      ]
     },
     "execution_count": 162,
     "metadata": {},
     "output_type": "execute_result"
    }
   ],
   "source": [
    "using Plots\n",
    "pyplot()"
   ]
  },
  {
   "cell_type": "code",
   "execution_count": 163,
   "metadata": {},
   "outputs": [
    {
     "data": {
      "text/html": [
       "<img src=\"data:image/png;base64,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\" />"
      ]
     },
     "execution_count": 163,
     "metadata": {},
     "output_type": "execute_result"
    }
   ],
   "source": [
    "heatmap(potential2d)"
   ]
  },
  {
   "cell_type": "code",
   "execution_count": null,
   "metadata": {
    "collapsed": true
   },
   "outputs": [],
   "source": []
  }
 ],
 "metadata": {
  "kernelspec": {
   "display_name": "Julia 0.6.0",
   "language": "julia",
   "name": "julia-0.6"
  },
  "language_info": {
   "file_extension": ".jl",
   "mimetype": "application/julia",
   "name": "julia",
   "version": "0.6.0"
  }
 },
 "nbformat": 4,
 "nbformat_minor": 2
}
