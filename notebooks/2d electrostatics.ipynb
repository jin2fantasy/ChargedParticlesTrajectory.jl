{
 "cells": [
  {
   "cell_type": "markdown",
   "metadata": {},
   "source": [
    "# Solving 2d electrostatics problem numerically\n",
    "\n",
    "Let's solve electrostatics problem\n",
    "\n",
    "$$ \\nabla^2 \\phi = \\frac{\\rho}{\\epsilon_0} $$\n",
    "\n",
    "with given source charge distribution and boundary conditions.\n",
    "\n",
    "The poisson's equation can be expressed more explicitly, i.e.,\n",
    "\n",
    "$$ (\\frac{\\partial^2}{\\partial x^2} + \\frac{\\partial^2}{\\partial y^2}) \\phi (x,y) = \\frac{\\rho (x,y)}{\\epsilon_0} $$\n",
    "\n",
    "Discretizing the partial differential operators, we have\n",
    "\n",
    "$$ \\frac{\\partial \\phi}{\\partial x} = \\frac{\\phi (x+h, y) - \\phi (x, y)}{h} $$\n",
    "\n",
    "$$ \\frac{\\partial^2 \\phi}{\\partial x^2} = \\frac{\\phi(x+h,y) - 2\\phi(x,y) + \\phi(x-h,y)}{h^2} $$\n",
    "\n",
    "with some discretizing factor $h$."
   ]
  },
  {
   "cell_type": "markdown",
   "metadata": {},
   "source": [
    "Now we have difference equation:\n",
    "\n",
    "$$ \\frac{\\phi(x+h,y) - 2\\phi(x,y) + \\phi(x-h,y)}{h^2} + \\frac{\\phi(x,y+h) - 2\\phi(x,y) + \\phi(x,y-h)}{h^2} \n",
    "    = \\frac{\\rho(x,y)}{\\epsilon_0} $$"
   ]
  },
  {
   "cell_type": "markdown",
   "metadata": {},
   "source": [
    "The difference equation can be formulated in 2 ways. One is using matrix, and the other is using stencil operation. Let's do matrix version first.\n",
    "\n",
    "Since the space is discretized, we can represent the potential as a matrix $\\phi(x,y) = \\phi_{i,j}$. Here, the difference of coordinates between any neighboring elements is $h$. The source term is also changed to $\\rho(x,y) = \\rho_{i.j}$. Then the difference equation is transformed into\n",
    "\n",
    "$$ \\frac{\\phi_{i+1,j} + \\phi_{i-1,j} + \\phi_{i,j+1} + \\phi_{i,j-1} - 4\\phi_{i,j}}{h^2} = \n",
    "    \\frac{\\rho_{i,j}}{\\epsilon_0} $$\n",
    "    \n",
    "Here, the subscripts are $ 2 \\leq i \\leq N-1 $ and $ 2 \\leq j \\leq M-1 $. Consequently, the equation is converted into matrix equation:"
   ]
  },
  {
   "cell_type": "markdown",
   "metadata": {},
   "source": [
    "$$ \\begin{bmatrix}\n",
    "      D    &   -I   &    0   & \\cdots &    0   &    0   \\\\\n",
    "     -I    &    D   &   -I   & \\cdots &    0   &    0   \\\\\n",
    "      0    &   -I   &    D   & \\cdots &    0   &    0   \\\\\n",
    "    \\vdots & \\vdots & \\vdots & \\ddots & \\vdots & \\vdots \\\\\n",
    "      0    &    0   &    0   & \\cdots &    D   &   -I   \\\\\n",
    "      0    &    0   &    0   & \\cdots &   -I   &    D\n",
    "    \\end{bmatrix}\n",
    "    \\begin{bmatrix}\n",
    "    \\phi_{2,2} \\\\\n",
    "    \\phi_{3,2} \\\\\n",
    "    \\vdots     \\\\\n",
    "    \\phi_{N-1,2} \\\\\n",
    "    \\phi_{2,3} \\\\\n",
    "    \\phi_{3,3} \\\\\n",
    "    \\vdots     \\\\\n",
    "    \\phi_{N-1,3} \\\\\n",
    "    \\phi_{2,M-1} \\\\\n",
    "    \\phi_{3,M-1} \\\\\n",
    "    \\vdots     \\\\\n",
    "    \\phi_{N-1,M-1}\n",
    "    \\end{bmatrix}\n",
    "    =\n",
    "    \\begin{bmatrix}\n",
    "    -\\frac{h^2}{\\epsilon_0}\\rho_{2,2} + \\phi_{1,2} + \\phi_{2,1} \\\\\n",
    "    -\\frac{h^2}{\\epsilon_0}\\rho_{3,2} + \\phi_{3,1} \\\\\n",
    "    \\vdots     \\\\\n",
    "    -\\frac{h^2}{\\epsilon_0}\\rho_{N-1,2} + \\phi_{N,2} + \\phi_{N-1,1} \\\\\n",
    "    -\\frac{h^2}{\\epsilon_0}\\rho_{2,3} + \\phi_{1,3} \\\\\n",
    "    -\\frac{h^2}{\\epsilon_0}\\rho_{3,3} \\\\\n",
    "    \\vdots     \\\\\n",
    "    -\\frac{h^2}{\\epsilon_0}\\rho_{N-1,3} + \\phi_{N,3} \\\\\n",
    "    -\\frac{h^2}{\\epsilon_0}\\rho_{2,M-1} + \\phi_{1,M-1} + \\phi_{2,M} \\\\\n",
    "    -\\frac{h^2}{\\epsilon_0}\\rho_{3,M-1} + \\phi_{3,M} \\\\\n",
    "    \\vdots     \\\\\n",
    "    -\\frac{h^2}{\\epsilon_0}\\rho_{N-1,M-1} + \\phi_{N,M-1} + \\phi_{N-1,M}\n",
    "    \\end{bmatrix}\n",
    "    $$\n",
    "\n",
    "where $I$ is $(N-2) \\times (N-2)$ identity matrix and $D$ is $(N-2) \\times (N-2)$ matrix, given by\n",
    "\n",
    "$$ D = \\begin{bmatrix}\n",
    "        4  &  -1  &  0  &  0  & \\cdots &  0  \\\\\n",
    "       -1  &   4  & -1  &  0  & \\cdots &  0  \\\\\n",
    "        0  &  -1  &  4  & -1  & \\cdots &  0  \\\\\n",
    "        \\vdots  &  \\vdots  &  \\vdots  &  \\vdots  & \\ddots &  -1  \\\\\n",
    "        0  &  0  &  0  &  0  &  -1  &  4\n",
    "        \\end{bmatrix}\n",
    "$$\n",
    "\n",
    "Also note that the boundary elements are brought to right-hand side. "
   ]
  },
  {
   "cell_type": "code",
   "execution_count": 14,
   "metadata": {},
   "outputs": [
    {
     "data": {
      "text/plain": [
       "18×18 SymTridiagonal{Int64}:\n",
       "  4  -1   ⋅   ⋅   ⋅   ⋅   ⋅   ⋅   ⋅   ⋅   ⋅   ⋅   ⋅   ⋅   ⋅   ⋅   ⋅   ⋅\n",
       " -1   4  -1   ⋅   ⋅   ⋅   ⋅   ⋅   ⋅   ⋅   ⋅   ⋅   ⋅   ⋅   ⋅   ⋅   ⋅   ⋅\n",
       "  ⋅  -1   4  -1   ⋅   ⋅   ⋅   ⋅   ⋅   ⋅   ⋅   ⋅   ⋅   ⋅   ⋅   ⋅   ⋅   ⋅\n",
       "  ⋅   ⋅  -1   4  -1   ⋅   ⋅   ⋅   ⋅   ⋅   ⋅   ⋅   ⋅   ⋅   ⋅   ⋅   ⋅   ⋅\n",
       "  ⋅   ⋅   ⋅  -1   4  -1   ⋅   ⋅   ⋅   ⋅   ⋅   ⋅   ⋅   ⋅   ⋅   ⋅   ⋅   ⋅\n",
       "  ⋅   ⋅   ⋅   ⋅  -1   4  -1   ⋅   ⋅   ⋅   ⋅   ⋅   ⋅   ⋅   ⋅   ⋅   ⋅   ⋅\n",
       "  ⋅   ⋅   ⋅   ⋅   ⋅  -1   4  -1   ⋅   ⋅   ⋅   ⋅   ⋅   ⋅   ⋅   ⋅   ⋅   ⋅\n",
       "  ⋅   ⋅   ⋅   ⋅   ⋅   ⋅  -1   4  -1   ⋅   ⋅   ⋅   ⋅   ⋅   ⋅   ⋅   ⋅   ⋅\n",
       "  ⋅   ⋅   ⋅   ⋅   ⋅   ⋅   ⋅  -1   4  -1   ⋅   ⋅   ⋅   ⋅   ⋅   ⋅   ⋅   ⋅\n",
       "  ⋅   ⋅   ⋅   ⋅   ⋅   ⋅   ⋅   ⋅  -1   4  -1   ⋅   ⋅   ⋅   ⋅   ⋅   ⋅   ⋅\n",
       "  ⋅   ⋅   ⋅   ⋅   ⋅   ⋅   ⋅   ⋅   ⋅  -1   4  -1   ⋅   ⋅   ⋅   ⋅   ⋅   ⋅\n",
       "  ⋅   ⋅   ⋅   ⋅   ⋅   ⋅   ⋅   ⋅   ⋅   ⋅  -1   4  -1   ⋅   ⋅   ⋅   ⋅   ⋅\n",
       "  ⋅   ⋅   ⋅   ⋅   ⋅   ⋅   ⋅   ⋅   ⋅   ⋅   ⋅  -1   4  -1   ⋅   ⋅   ⋅   ⋅\n",
       "  ⋅   ⋅   ⋅   ⋅   ⋅   ⋅   ⋅   ⋅   ⋅   ⋅   ⋅   ⋅  -1   4  -1   ⋅   ⋅   ⋅\n",
       "  ⋅   ⋅   ⋅   ⋅   ⋅   ⋅   ⋅   ⋅   ⋅   ⋅   ⋅   ⋅   ⋅  -1   4  -1   ⋅   ⋅\n",
       "  ⋅   ⋅   ⋅   ⋅   ⋅   ⋅   ⋅   ⋅   ⋅   ⋅   ⋅   ⋅   ⋅   ⋅  -1   4  -1   ⋅\n",
       "  ⋅   ⋅   ⋅   ⋅   ⋅   ⋅   ⋅   ⋅   ⋅   ⋅   ⋅   ⋅   ⋅   ⋅   ⋅  -1   4  -1\n",
       "  ⋅   ⋅   ⋅   ⋅   ⋅   ⋅   ⋅   ⋅   ⋅   ⋅   ⋅   ⋅   ⋅   ⋅   ⋅   ⋅  -1   4"
      ]
     },
     "execution_count": 14,
     "metadata": {},
     "output_type": "execute_result"
    }
   ],
   "source": [
    "L = 1\n",
    "h = 0.05\n",
    "nstep = Int(L/h)\n",
    "D = SymTridiagonal(repmat([4], nstep-2), repmat([-1], nstep-2))"
   ]
  },
  {
   "cell_type": "code",
   "execution_count": 15,
   "metadata": {},
   "outputs": [
    {
     "data": {
      "text/plain": [
       "324×324 SparseMatrixCSC{Float64,Int64} with 0 stored entries"
      ]
     },
     "execution_count": 15,
     "metadata": {},
     "output_type": "execute_result"
    }
   ],
   "source": [
    "n = nstep-2\n",
    "coeff = spzeros(n^2, n^2)"
   ]
  },
  {
   "cell_type": "code",
   "execution_count": 16,
   "metadata": {
    "collapsed": true
   },
   "outputs": [],
   "source": [
    "for j in 1:n\n",
    "    view(coeff, (j-1)*n+1 : j*n, (j-1)*n+1 : j*n) .= D\n",
    "end\n",
    "for j in 1:n-1\n",
    "    view(coeff, j*n+1 : (j+1)*n, (j-1)*n+1 : j*n) .= -eye(n,n)\n",
    "    view(coeff, (j-1)*n+1 : j*n, j*n+1 : (j+1)*n) .= -eye(n,n)\n",
    "end        "
   ]
  },
  {
   "cell_type": "code",
   "execution_count": 17,
   "metadata": {},
   "outputs": [],
   "source": [
    "writedlm(\"coeff matrix.csv\", coeff, ',')"
   ]
  },
  {
   "cell_type": "code",
   "execution_count": 28,
   "metadata": {},
   "outputs": [
    {
     "data": {
      "text/plain": [
       "324-element Array{Float64,1}:\n",
       " 1.0\n",
       " 0.0\n",
       " 0.0\n",
       " 0.0\n",
       " 0.0\n",
       " 0.0\n",
       " 0.0\n",
       " 0.0\n",
       " 0.0\n",
       " 0.0\n",
       " 0.0\n",
       " 0.0\n",
       " 0.0\n",
       " ⋮  \n",
       " 0.0\n",
       " 0.0\n",
       " 0.0\n",
       " 0.0\n",
       " 0.0\n",
       " 0.0\n",
       " 0.0\n",
       " 0.0\n",
       " 0.0\n",
       " 0.0\n",
       " 0.0\n",
       " 1.0"
      ]
     },
     "execution_count": 28,
     "metadata": {},
     "output_type": "execute_result"
    }
   ],
   "source": [
    "source = zeros(n^2)\n",
    "boundary_cond = zeros(n, n) \n",
    "# boundary condition: V=1 for x-direction and V=0 for y-direction.\n",
    "boundary_cond[:, 1] .+= 0\n",
    "boundary_cond[:, end] .+= 0\n",
    "boundary_cond[1, :] .+= 1\n",
    "boundary_cond[end, :] .+= 1\n",
    "boundary_cond = vec(boundary_cond)\n",
    "sourceterm = source .+ boundary_cond"
   ]
  },
  {
   "cell_type": "code",
   "execution_count": 37,
   "metadata": {},
   "outputs": [
    {
     "data": {
      "text/plain": [
       "20×20 Array{Float64,2}:\n",
       " 1.0  1.0        1.0       1.0       …  1.0       1.0       1.0        1.0\n",
       " 0.0  0.5        0.697513  0.790051     0.790051  0.697513  0.5        0.0\n",
       " 0.0  0.302487   0.5       0.622587     0.622587  0.5       0.302487   0.0\n",
       " 0.0  0.209949   0.377413  0.5          0.5       0.377413  0.209949   0.0\n",
       " 0.0  0.159895   0.299702  0.412628     0.412628  0.299702  0.159895   0.0\n",
       " 0.0  0.12993    0.248872  0.350808  …  0.350808  0.248872  0.12993    0.0\n",
       " 0.0  0.110955   0.215046  0.307519     0.307519  0.215046  0.110955   0.0\n",
       " 0.0  0.098842   0.19284   0.278169     0.278169  0.19284   0.098842   0.0\n",
       " 0.0  0.0915734  0.179303  0.259924     0.259924  0.179303  0.0915734  0.0\n",
       " 0.0  0.0881489  0.172873  0.251168     0.251168  0.172873  0.0881489  0.0\n",
       " 0.0  0.0881489  0.172873  0.251168  …  0.251168  0.172873  0.0881489  0.0\n",
       " 0.0  0.0915734  0.179303  0.259924     0.259924  0.179303  0.0915734  0.0\n",
       " 0.0  0.098842   0.19284   0.278169     0.278169  0.19284   0.098842   0.0\n",
       " 0.0  0.110955   0.215046  0.307519     0.307519  0.215046  0.110955   0.0\n",
       " 0.0  0.12993    0.248872  0.350808     0.350808  0.248872  0.12993    0.0\n",
       " 0.0  0.159895   0.299702  0.412628  …  0.412628  0.299702  0.159895   0.0\n",
       " 0.0  0.209949   0.377413  0.5          0.5       0.377413  0.209949   0.0\n",
       " 0.0  0.302487   0.5       0.622587     0.622587  0.5       0.302487   0.0\n",
       " 0.0  0.5        0.697513  0.790051     0.790051  0.697513  0.5        0.0\n",
       " 1.0  1.0        1.0       1.0          1.0       1.0       1.0        1.0"
      ]
     },
     "execution_count": 37,
     "metadata": {},
     "output_type": "execute_result"
    }
   ],
   "source": [
    "potential = coeff\\sourceterm\n",
    "potential2d = zeros(nstep, nstep)\n",
    "potential2d[1,:] = 1\n",
    "potential2d[end,:] = 1\n",
    "potential2d[2:end-1, 2:end-1] .= reshape(potential, n, n)\n",
    "writedlm(\"potential.csv\", potential2d, ',')\n",
    "potential2d\n"
   ]
  },
  {
   "cell_type": "code",
   "execution_count": 38,
   "metadata": {},
   "outputs": [
    {
     "data": {
      "text/plain": [
       "Plots.PyPlotBackend()"
      ]
     },
     "execution_count": 38,
     "metadata": {},
     "output_type": "execute_result"
    }
   ],
   "source": [
    "using Plots\n",
    "pyplot()"
   ]
  },
  {
   "cell_type": "code",
   "execution_count": 40,
   "metadata": {},
   "outputs": [
    {
     "data": {
      "text/html": [
       "<img src=\"data:image/png;base64,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\" />"
      ]
     },
     "execution_count": 40,
     "metadata": {},
     "output_type": "execute_result"
    }
   ],
   "source": [
    "heatmap(potential2d)"
   ]
  },
  {
   "cell_type": "code",
   "execution_count": null,
   "metadata": {
    "collapsed": true
   },
   "outputs": [],
   "source": []
  }
 ],
 "metadata": {
  "kernelspec": {
   "display_name": "Julia 0.6.0",
   "language": "julia",
   "name": "julia-0.6"
  },
  "language_info": {
   "file_extension": ".jl",
   "mimetype": "application/julia",
   "name": "julia",
   "version": "0.6.0"
  }
 },
 "nbformat": 4,
 "nbformat_minor": 2
}
